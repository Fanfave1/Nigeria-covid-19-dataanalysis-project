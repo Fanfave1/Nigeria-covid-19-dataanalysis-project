{
  "nbformat": 4,
  "nbformat_minor": 0,
  "metadata": {
    "colab": {
      "provenance": [],
      "mount_file_id": "1_cXqGggtIg1E6eVZsOI4YivjRGfNlKFg",
      "authorship_tag": "ABX9TyNSOb/KGnyLOfCkdbTh750/",
      "include_colab_link": true
    },
    "kernelspec": {
      "name": "python3",
      "display_name": "Python 3"
    },
    "language_info": {
      "name": "python"
    }
  },
  "cells": [
    {
      "cell_type": "markdown",
      "metadata": {
        "id": "view-in-github",
        "colab_type": "text"
      },
      "source": [
        "<a href=\"https://colab.research.google.com/github/Fanfave1/Nigeria-covid-19-dataanalysis-project/blob/main/COVID_19_notebook.ipynb\" target=\"_parent\"><img src=\"https://colab.research.google.com/assets/colab-badge.svg\" alt=\"Open In Colab\"/></a>"
      ]
    },
    {
      "cell_type": "code",
      "source": [
        "#import libraries"
      ],
      "metadata": {
        "id": "P9FEcRqWmPZW"
      },
      "execution_count": 15,
      "outputs": []
    },
    {
      "cell_type": "code",
      "execution_count": 16,
      "metadata": {
        "id": "rNflVjQhIOOa"
      },
      "outputs": [],
      "source": [
        "import pandas as pd"
      ]
    },
    {
      "cell_type": "code",
      "source": [],
      "metadata": {
        "id": "DW9F6NzSmYPj"
      },
      "execution_count": 16,
      "outputs": []
    },
    {
      "cell_type": "code",
      "source": [
        "#load datasets"
      ],
      "metadata": {
        "id": "2M13J9Lama_-"
      },
      "execution_count": 17,
      "outputs": []
    },
    {
      "cell_type": "code",
      "source": [
        "covid_nig_data = pd.read_csv('/covidnig.csv')"
      ],
      "metadata": {
        "id": "qO9eJfbqIthk"
      },
      "execution_count": null,
      "outputs": []
    },
    {
      "cell_type": "code",
      "source": [
        "budget_data = pd.read_csv('/Budget data.csv')"
      ],
      "metadata": {
        "id": "_nleVpsmmgcn"
      },
      "execution_count": 18,
      "outputs": []
    },
    {
      "cell_type": "code",
      "source": [
        "covid_external_data = pd.read_csv('/covid_external.csv')"
      ],
      "metadata": {
        "id": "0SqKvgs-mwin"
      },
      "execution_count": 19,
      "outputs": []
    },
    {
      "cell_type": "code",
      "source": [
        "real_gdp_data = pd.read_csv('/RealGDP.csv')"
      ],
      "metadata": {
        "id": "Mj6X1XVGnFeg"
      },
      "execution_count": 20,
      "outputs": []
    },
    {
      "cell_type": "code",
      "source": [],
      "metadata": {
        "id": "8z7dJDCRnVSA"
      },
      "execution_count": 20,
      "outputs": []
    },
    {
      "cell_type": "code",
      "source": [
        "#clean datasets"
      ],
      "metadata": {
        "id": "xvXjRjhDnXXv"
      },
      "execution_count": 21,
      "outputs": []
    },
    {
      "cell_type": "code",
      "source": [
        "covid_nig_data.columns = ['States Affected', 'No. of Cases(Lab Confirmed)', 'No. of Cases(On Admission)', 'No. Discharged', 'No. of Deaths']"
      ],
      "metadata": {
        "id": "SdL5_EZznbRU"
      },
      "execution_count": 23,
      "outputs": []
    },
    {
      "cell_type": "code",
      "source": [
        "covid_nig_data.fillna(0,inplace=True)"
      ],
      "metadata": {
        "id": "wUD5FC8enywC"
      },
      "execution_count": 24,
      "outputs": []
    },
    {
      "cell_type": "code",
      "source": [],
      "metadata": {
        "id": "XDg9iU8jn2hs"
      },
      "execution_count": null,
      "outputs": []
    },
    {
      "cell_type": "code",
      "source": [
        "print(covid_nig_data.head())"
      ],
      "metadata": {
        "id": "Q70u1W0sMvN6",
        "colab": {
          "base_uri": "https://localhost:8080/"
        },
        "outputId": "fa05ab42-2ee5-4f0a-f76e-70c214acb60b"
      },
      "execution_count": null,
      "outputs": [
        {
          "output_type": "stream",
          "name": "stdout",
          "text": [
            "  States Affected No. of Cases (Lab Confirmed) No. of Cases (on admission)  \\\n",
            "0           Lagos                       26,708                       2,435   \n",
            "1             FCT                        9,627                       2,840   \n",
            "2          Kaduna                        4,504                         579   \n",
            "3         Plateau                        4,262                         280   \n",
            "4             Oyo                        3,788                         368   \n",
            "\n",
            "  No. Discharged  No. of Deaths  \n",
            "0         24,037            236  \n",
            "1          6,694             93  \n",
            "2          3,877             48  \n",
            "3          3,948             34  \n",
            "4          3,374             46  \n"
          ]
        }
      ]
    },
    {
      "cell_type": "code",
      "source": [
        "#Calculate total cases, deaths, and recoveries across all states"
      ],
      "metadata": {
        "id": "VWWI6EMOSyis"
      },
      "execution_count": null,
      "outputs": []
    },
    {
      "cell_type": "code",
      "source": [
        "total_cases = covid_nig_data['No. of Cases (Lab Confirmed)'].sum()"
      ],
      "metadata": {
        "id": "q3CiYjDqU8iq"
      },
      "execution_count": null,
      "outputs": []
    },
    {
      "cell_type": "code",
      "source": [
        "total_deaths = covid_nig_data['No. of Deaths'].sum()"
      ],
      "metadata": {
        "id": "NKHu2D3-Wu8n"
      },
      "execution_count": null,
      "outputs": []
    },
    {
      "cell_type": "code",
      "source": [
        "total_recoveries = covid_nig_data['No. Discharged'].sum()"
      ],
      "metadata": {
        "id": "3RDwSn7CWvcH"
      },
      "execution_count": null,
      "outputs": []
    },
    {
      "cell_type": "code",
      "source": [],
      "metadata": {
        "id": "9J_aZ6mzXsZH"
      },
      "execution_count": null,
      "outputs": []
    },
    {
      "cell_type": "code",
      "source": [
        "#Add new columns for case percentages by state"
      ],
      "metadata": {
        "id": "67TjkPUIYckk"
      },
      "execution_count": null,
      "outputs": []
    },
    {
      "cell_type": "code",
      "source": [
        "print(covid_nig_data['No. of Cases (Lab Confirmed)'].unique())"
      ],
      "metadata": {
        "colab": {
          "base_uri": "https://localhost:8080/"
        },
        "id": "v3bbJHm_YuR5",
        "outputId": "68614026-b6b3-47b8-8ef2-6e00a36618e0"
      },
      "execution_count": null,
      "outputs": [
        {
          "output_type": "stream",
          "name": "stdout",
          "text": [
            "[ nan 980. 979. 897. 778. 734. 600. 515. 497. 405. 395. 386. 381. 355.\n",
            " 299. 228. 203. 164. 143.  93.  79.   5.]\n"
          ]
        }
      ]
    },
    {
      "cell_type": "code",
      "source": [
        "\n",
        "covid_nig_data['No. of Cases (Lab Confirmed)'] = pd.to_numeric(\n",
        "    covid_nig_data['No. of Cases (Lab Confirmed)'], errors='coerce'\n",
        ")"
      ],
      "metadata": {
        "id": "aogKTs2SnktL"
      },
      "execution_count": null,
      "outputs": []
    },
    {
      "cell_type": "code",
      "source": [
        "total_cases = covid_nig_data['No. of Cases (Lab Confirmed)'].sum()"
      ],
      "metadata": {
        "id": "kvywbcuRoTX0"
      },
      "execution_count": null,
      "outputs": []
    },
    {
      "cell_type": "code",
      "source": [
        "\n",
        "covid_nig_data['Cases Percentage'] = (covid_nig_data['No. of Cases (Lab Confirmed)'] / total_cases) * 100"
      ],
      "metadata": {
        "id": "42toI5waovHR"
      },
      "execution_count": null,
      "outputs": []
    },
    {
      "cell_type": "code",
      "source": [
        "print(covid_nig_data[['States Affected', 'No. of Cases (Lab Confirmed)', 'Cases Percentage']])"
      ],
      "metadata": {
        "colab": {
          "base_uri": "https://localhost:8080/"
        },
        "id": "a6QOlz9FiERg",
        "outputId": "b6743d57-8df3-40f8-d6b8-05f2753acdc8"
      },
      "execution_count": null,
      "outputs": [
        {
          "output_type": "stream",
          "name": "stdout",
          "text": [
            "   States Affected  No. of Cases (Lab Confirmed)  Cases Percentage\n",
            "0            Lagos                           NaN               NaN\n",
            "1              FCT                           NaN               NaN\n",
            "2           Kaduna                           NaN               NaN\n",
            "3          Plateau                           NaN               NaN\n",
            "4              Oyo                           NaN               NaN\n",
            "5           Rivers                           NaN               NaN\n",
            "6              Edo                           NaN               NaN\n",
            "7             Ogun                           NaN               NaN\n",
            "8             Kano                           NaN               NaN\n",
            "9            Delta                           NaN               NaN\n",
            "10            Ondo                           NaN               NaN\n",
            "11         Katsina                           NaN               NaN\n",
            "12           Enugu                           NaN               NaN\n",
            "13           Kwara                           NaN               NaN\n",
            "14           Gombe                           NaN               NaN\n",
            "15          Ebonyi                           NaN               NaN\n",
            "16            Abia                         980.0         10.750329\n",
            "17            Osun                         979.0         10.739359\n",
            "18          Bauchi                         897.0          9.839842\n",
            "19           Borno                         778.0          8.534445\n",
            "20             Imo                         734.0          8.051777\n",
            "21        Nasarawa                         600.0          6.581834\n",
            "22           Benue                         515.0          5.649408\n",
            "23         Bayelsa                         497.0          5.451953\n",
            "24           Ekiti                         405.0          4.442738\n",
            "25       Akwa Ibom                         395.0          4.333041\n",
            "26          Jigawa                         386.0          4.234313\n",
            "27           Niger                         381.0          4.179465\n",
            "28         Adamawa                         355.0          3.894252\n",
            "29         Anambra                         299.0          3.279947\n",
            "30          Sokoto                         228.0          2.501097\n",
            "31          Taraba                         203.0          2.226854\n",
            "32            Yobe                         164.0          1.799035\n",
            "33           Kebbi                         143.0          1.568670\n",
            "34     Cross River                          93.0          1.020184\n",
            "35        Zamfara                           79.0          0.866608\n",
            "36            Kogi                           5.0          0.054849\n"
          ]
        }
      ]
    },
    {
      "cell_type": "code",
      "source": [
        "covid_nig_data['Deaths Percentage'] = (covid_nig_data['No. of Deaths'] / total_deaths) * 100"
      ],
      "metadata": {
        "id": "JVGRGTGZpahB"
      },
      "execution_count": null,
      "outputs": []
    },
    {
      "cell_type": "code",
      "source": [
        "print(covid_nig_data['No. Discharged'].unique())"
      ],
      "metadata": {
        "colab": {
          "base_uri": "https://localhost:8080/"
        },
        "id": "eufe6UqYsDw8",
        "outputId": "2343785a-23f1-4b01-9d54-cc9b8e8082b9"
      },
      "execution_count": null,
      "outputs": [
        {
          "output_type": "stream",
          "name": "stdout",
          "text": [
            "['24,037' '6,694' '3,877' '3,948' '3,374' '2,987' '2,603' '2,175' '1,778'\n",
            " '1,737' '1,690' '1,167' '1,321' '1,094' '950' '1,037' '945' '937' '775'\n",
            " '705' '661' '325' '460' '421' '375' '342' '318' '300' '238' '274' '171'\n",
            " '177' '123' '130' '81' '73' '3']\n"
          ]
        }
      ]
    },
    {
      "cell_type": "code",
      "source": [
        "covid_nig_data['No. Discharged'] = covid_nig_data['No. Discharged'].str.replace(',', '').astype(float)"
      ],
      "metadata": {
        "id": "r6rSvj2isF14"
      },
      "execution_count": null,
      "outputs": []
    },
    {
      "cell_type": "code",
      "source": [
        "covid_nig_data['No. Discharged'] = pd.to_numeric(covid_nig_data['No. Discharged'], errors='coerce')"
      ],
      "metadata": {
        "id": "lwAI4-7TsQeM"
      },
      "execution_count": null,
      "outputs": []
    },
    {
      "cell_type": "code",
      "source": [
        "total_recoveries = covid_nig_data['No. Discharged'].sum()\n",
        "print(total_recoveries)"
      ],
      "metadata": {
        "colab": {
          "base_uri": "https://localhost:8080/"
        },
        "id": "mp-AmlcXsgWR",
        "outputId": "98980489-a112-429e-bb53-269cd82b2b11"
      },
      "execution_count": null,
      "outputs": [
        {
          "output_type": "stream",
          "name": "stdout",
          "text": [
            "68303.0\n"
          ]
        }
      ]
    },
    {
      "cell_type": "code",
      "source": [
        "covid_nig_data['No. Discharged'].fillna(0, inplace=True)\n",
        "total_recoveries = covid_nig_data['No. Discharged'].sum()"
      ],
      "metadata": {
        "colab": {
          "base_uri": "https://localhost:8080/"
        },
        "id": "7pigjtDgszxO",
        "outputId": "4d5e2fc0-6ee3-4e3d-8209-296c2f6ff881"
      },
      "execution_count": null,
      "outputs": [
        {
          "output_type": "stream",
          "name": "stderr",
          "text": [
            "<ipython-input-73-376f0e771f87>:1: FutureWarning: A value is trying to be set on a copy of a DataFrame or Series through chained assignment using an inplace method.\n",
            "The behavior will change in pandas 3.0. This inplace method will never work because the intermediate object on which we are setting values always behaves as a copy.\n",
            "\n",
            "For example, when doing 'df[col].method(value, inplace=True)', try using 'df.method({col: value}, inplace=True)' or df[col] = df[col].method(value) instead, to perform the operation inplace on the original object.\n",
            "\n",
            "\n",
            "  covid_nig_data['No. Discharged'].fillna(0, inplace=True)\n"
          ]
        }
      ]
    },
    {
      "cell_type": "code",
      "source": [
        "covid_nig_data['Recoveries Percentage'] = (covid_nig_data['No. Discharged'] / total_recoveries) * 100"
      ],
      "metadata": {
        "id": "W_pYgPzWtBnj"
      },
      "execution_count": null,
      "outputs": []
    },
    {
      "cell_type": "code",
      "source": [
        "# Display the summary"
      ],
      "metadata": {
        "id": "jxelLETatXiv"
      },
      "execution_count": null,
      "outputs": []
    },
    {
      "cell_type": "code",
      "source": [
        "print(\"Total Confirmed Cases:\", total_cases)"
      ],
      "metadata": {
        "colab": {
          "base_uri": "https://localhost:8080/"
        },
        "id": "FAcY1VehtzqO",
        "outputId": "2ea6f1b1-fd15-466f-d873-2b34a7775a45"
      },
      "execution_count": null,
      "outputs": [
        {
          "output_type": "stream",
          "name": "stdout",
          "text": [
            "Total Confirmed Cases: 9116.0\n"
          ]
        }
      ]
    },
    {
      "cell_type": "code",
      "source": [
        "print(\"Total Deaths:\", total_deaths)"
      ],
      "metadata": {
        "colab": {
          "base_uri": "https://localhost:8080/"
        },
        "id": "tTIEm7Qxt0x2",
        "outputId": "564333eb-7fb2-4db6-a92d-ac625df2a77d"
      },
      "execution_count": null,
      "outputs": [
        {
          "output_type": "stream",
          "name": "stdout",
          "text": [
            "Total Deaths: 1221\n"
          ]
        }
      ]
    },
    {
      "cell_type": "code",
      "source": [
        "print(\"Total Recoveries:\", total_recoveries)"
      ],
      "metadata": {
        "colab": {
          "base_uri": "https://localhost:8080/"
        },
        "id": "1cPlgGs3u2yz",
        "outputId": "a97cc26d-bfdd-4bdf-cd1a-df363e5fa82a"
      },
      "execution_count": null,
      "outputs": [
        {
          "output_type": "stream",
          "name": "stdout",
          "text": [
            "Total Recoveries: 68303.0\n"
          ]
        }
      ]
    },
    {
      "cell_type": "code",
      "source": [
        "covid_nig_data[['States Affected', 'No. of Cases (Lab Confirmed)', 'No. of Deaths', 'No. Discharged',\n",
        "                'Cases Percentage', 'Deaths Percentage', 'Recoveries Percentage']]"
      ],
      "metadata": {
        "colab": {
          "base_uri": "https://localhost:8080/",
          "height": 1000
        },
        "id": "hg2D9zvVu38S",
        "outputId": "29a9e23f-04d7-4e7b-fb9d-d168ac5added"
      },
      "execution_count": null,
      "outputs": [
        {
          "output_type": "execute_result",
          "data": {
            "text/plain": [
              "   States Affected  No. of Cases (Lab Confirmed)  No. of Deaths  \\\n",
              "0            Lagos                           NaN            236   \n",
              "1              FCT                           NaN             93   \n",
              "2           Kaduna                           NaN             48   \n",
              "3          Plateau                           NaN             34   \n",
              "4              Oyo                           NaN             46   \n",
              "5           Rivers                           NaN             60   \n",
              "6              Edo                           NaN            113   \n",
              "7             Ogun                           NaN             33   \n",
              "8             Kano                           NaN             56   \n",
              "9            Delta                           NaN             49   \n",
              "10            Ondo                           NaN             41   \n",
              "11         Katsina                           NaN             24   \n",
              "12           Enugu                           NaN             21   \n",
              "13           Kwara                           NaN             31   \n",
              "14           Gombe                           NaN             31   \n",
              "15          Ebonyi                           NaN             30   \n",
              "16            Abia                         980.0             10   \n",
              "17            Osun                         979.0             22   \n",
              "18          Bauchi                         897.0             14   \n",
              "19           Borno                         778.0             36   \n",
              "20             Imo                         734.0             12   \n",
              "21        Nasarawa                         600.0             13   \n",
              "22           Benue                         515.0             11   \n",
              "23         Bayelsa                         497.0             21   \n",
              "24           Ekiti                         405.0              6   \n",
              "25       Akwa Ibom                         395.0              9   \n",
              "26          Jigawa                         386.0             11   \n",
              "27           Niger                         381.0             12   \n",
              "28         Adamawa                         355.0             21   \n",
              "29         Anambra                         299.0             19   \n",
              "30          Sokoto                         228.0             17   \n",
              "31          Taraba                         203.0              7   \n",
              "32            Yobe                         164.0              8   \n",
              "33           Kebbi                         143.0              8   \n",
              "34     Cross River                          93.0             11   \n",
              "35        Zamfara                           79.0              5   \n",
              "36            Kogi                           5.0              2   \n",
              "\n",
              "    No. Discharged  Cases Percentage  Deaths Percentage  Recoveries Percentage  \n",
              "0          24037.0               NaN          19.328419              35.191719  \n",
              "1           6694.0               NaN           7.616708               9.800448  \n",
              "2           3877.0               NaN           3.931204               5.676178  \n",
              "3           3948.0               NaN           2.784603               5.780127  \n",
              "4           3374.0               NaN           3.767404               4.939754  \n",
              "5           2987.0               NaN           4.914005               4.373161  \n",
              "6           2603.0               NaN           9.254709               3.810960  \n",
              "7           2175.0               NaN           2.702703               3.184340  \n",
              "8           1778.0               NaN           4.586405               2.603107  \n",
              "9           1737.0               NaN           4.013104               2.543080  \n",
              "10          1690.0               NaN           3.357903               2.474269  \n",
              "11          1167.0               NaN           1.965602               1.708563  \n",
              "12          1321.0               NaN           1.719902               1.934029  \n",
              "13          1094.0               NaN           2.538903               1.601687  \n",
              "14           950.0               NaN           2.538903               1.390861  \n",
              "15          1037.0               NaN           2.457002               1.518235  \n",
              "16           945.0         10.750329           0.819001               1.383541  \n",
              "17           937.0         10.739359           1.801802               1.371828  \n",
              "18           775.0          9.839842           1.146601               1.134650  \n",
              "19           705.0          8.534445           2.948403               1.032165  \n",
              "20           661.0          8.051777           0.982801               0.967747  \n",
              "21           325.0          6.581834           1.064701               0.475821  \n",
              "22           460.0          5.649408           0.900901               0.673470  \n",
              "23           421.0          5.451953           1.719902               0.616371  \n",
              "24           375.0          4.442738           0.491400               0.549024  \n",
              "25           342.0          4.333041           0.737101               0.500710  \n",
              "26           318.0          4.234313           0.900901               0.465573  \n",
              "27           300.0          4.179465           0.982801               0.439219  \n",
              "28           238.0          3.894252           1.719902               0.348447  \n",
              "29           274.0          3.279947           1.556102               0.401154  \n",
              "30           171.0          2.501097           1.392301               0.250355  \n",
              "31           177.0          2.226854           0.573301               0.259139  \n",
              "32           123.0          1.799035           0.655201               0.180080  \n",
              "33           130.0          1.568670           0.655201               0.190328  \n",
              "34            81.0          1.020184           0.900901               0.118589  \n",
              "35            73.0          0.866608           0.409500               0.106877  \n",
              "36             3.0          0.054849           0.163800               0.004392  "
            ],
            "text/html": [
              "\n",
              "  <div id=\"df-614c4c9d-ad8c-497a-9fea-a7ecb61d20b6\" class=\"colab-df-container\">\n",
              "    <div>\n",
              "<style scoped>\n",
              "    .dataframe tbody tr th:only-of-type {\n",
              "        vertical-align: middle;\n",
              "    }\n",
              "\n",
              "    .dataframe tbody tr th {\n",
              "        vertical-align: top;\n",
              "    }\n",
              "\n",
              "    .dataframe thead th {\n",
              "        text-align: right;\n",
              "    }\n",
              "</style>\n",
              "<table border=\"1\" class=\"dataframe\">\n",
              "  <thead>\n",
              "    <tr style=\"text-align: right;\">\n",
              "      <th></th>\n",
              "      <th>States Affected</th>\n",
              "      <th>No. of Cases (Lab Confirmed)</th>\n",
              "      <th>No. of Deaths</th>\n",
              "      <th>No. Discharged</th>\n",
              "      <th>Cases Percentage</th>\n",
              "      <th>Deaths Percentage</th>\n",
              "      <th>Recoveries Percentage</th>\n",
              "    </tr>\n",
              "  </thead>\n",
              "  <tbody>\n",
              "    <tr>\n",
              "      <th>0</th>\n",
              "      <td>Lagos</td>\n",
              "      <td>NaN</td>\n",
              "      <td>236</td>\n",
              "      <td>24037.0</td>\n",
              "      <td>NaN</td>\n",
              "      <td>19.328419</td>\n",
              "      <td>35.191719</td>\n",
              "    </tr>\n",
              "    <tr>\n",
              "      <th>1</th>\n",
              "      <td>FCT</td>\n",
              "      <td>NaN</td>\n",
              "      <td>93</td>\n",
              "      <td>6694.0</td>\n",
              "      <td>NaN</td>\n",
              "      <td>7.616708</td>\n",
              "      <td>9.800448</td>\n",
              "    </tr>\n",
              "    <tr>\n",
              "      <th>2</th>\n",
              "      <td>Kaduna</td>\n",
              "      <td>NaN</td>\n",
              "      <td>48</td>\n",
              "      <td>3877.0</td>\n",
              "      <td>NaN</td>\n",
              "      <td>3.931204</td>\n",
              "      <td>5.676178</td>\n",
              "    </tr>\n",
              "    <tr>\n",
              "      <th>3</th>\n",
              "      <td>Plateau</td>\n",
              "      <td>NaN</td>\n",
              "      <td>34</td>\n",
              "      <td>3948.0</td>\n",
              "      <td>NaN</td>\n",
              "      <td>2.784603</td>\n",
              "      <td>5.780127</td>\n",
              "    </tr>\n",
              "    <tr>\n",
              "      <th>4</th>\n",
              "      <td>Oyo</td>\n",
              "      <td>NaN</td>\n",
              "      <td>46</td>\n",
              "      <td>3374.0</td>\n",
              "      <td>NaN</td>\n",
              "      <td>3.767404</td>\n",
              "      <td>4.939754</td>\n",
              "    </tr>\n",
              "    <tr>\n",
              "      <th>5</th>\n",
              "      <td>Rivers</td>\n",
              "      <td>NaN</td>\n",
              "      <td>60</td>\n",
              "      <td>2987.0</td>\n",
              "      <td>NaN</td>\n",
              "      <td>4.914005</td>\n",
              "      <td>4.373161</td>\n",
              "    </tr>\n",
              "    <tr>\n",
              "      <th>6</th>\n",
              "      <td>Edo</td>\n",
              "      <td>NaN</td>\n",
              "      <td>113</td>\n",
              "      <td>2603.0</td>\n",
              "      <td>NaN</td>\n",
              "      <td>9.254709</td>\n",
              "      <td>3.810960</td>\n",
              "    </tr>\n",
              "    <tr>\n",
              "      <th>7</th>\n",
              "      <td>Ogun</td>\n",
              "      <td>NaN</td>\n",
              "      <td>33</td>\n",
              "      <td>2175.0</td>\n",
              "      <td>NaN</td>\n",
              "      <td>2.702703</td>\n",
              "      <td>3.184340</td>\n",
              "    </tr>\n",
              "    <tr>\n",
              "      <th>8</th>\n",
              "      <td>Kano</td>\n",
              "      <td>NaN</td>\n",
              "      <td>56</td>\n",
              "      <td>1778.0</td>\n",
              "      <td>NaN</td>\n",
              "      <td>4.586405</td>\n",
              "      <td>2.603107</td>\n",
              "    </tr>\n",
              "    <tr>\n",
              "      <th>9</th>\n",
              "      <td>Delta</td>\n",
              "      <td>NaN</td>\n",
              "      <td>49</td>\n",
              "      <td>1737.0</td>\n",
              "      <td>NaN</td>\n",
              "      <td>4.013104</td>\n",
              "      <td>2.543080</td>\n",
              "    </tr>\n",
              "    <tr>\n",
              "      <th>10</th>\n",
              "      <td>Ondo</td>\n",
              "      <td>NaN</td>\n",
              "      <td>41</td>\n",
              "      <td>1690.0</td>\n",
              "      <td>NaN</td>\n",
              "      <td>3.357903</td>\n",
              "      <td>2.474269</td>\n",
              "    </tr>\n",
              "    <tr>\n",
              "      <th>11</th>\n",
              "      <td>Katsina</td>\n",
              "      <td>NaN</td>\n",
              "      <td>24</td>\n",
              "      <td>1167.0</td>\n",
              "      <td>NaN</td>\n",
              "      <td>1.965602</td>\n",
              "      <td>1.708563</td>\n",
              "    </tr>\n",
              "    <tr>\n",
              "      <th>12</th>\n",
              "      <td>Enugu</td>\n",
              "      <td>NaN</td>\n",
              "      <td>21</td>\n",
              "      <td>1321.0</td>\n",
              "      <td>NaN</td>\n",
              "      <td>1.719902</td>\n",
              "      <td>1.934029</td>\n",
              "    </tr>\n",
              "    <tr>\n",
              "      <th>13</th>\n",
              "      <td>Kwara</td>\n",
              "      <td>NaN</td>\n",
              "      <td>31</td>\n",
              "      <td>1094.0</td>\n",
              "      <td>NaN</td>\n",
              "      <td>2.538903</td>\n",
              "      <td>1.601687</td>\n",
              "    </tr>\n",
              "    <tr>\n",
              "      <th>14</th>\n",
              "      <td>Gombe</td>\n",
              "      <td>NaN</td>\n",
              "      <td>31</td>\n",
              "      <td>950.0</td>\n",
              "      <td>NaN</td>\n",
              "      <td>2.538903</td>\n",
              "      <td>1.390861</td>\n",
              "    </tr>\n",
              "    <tr>\n",
              "      <th>15</th>\n",
              "      <td>Ebonyi</td>\n",
              "      <td>NaN</td>\n",
              "      <td>30</td>\n",
              "      <td>1037.0</td>\n",
              "      <td>NaN</td>\n",
              "      <td>2.457002</td>\n",
              "      <td>1.518235</td>\n",
              "    </tr>\n",
              "    <tr>\n",
              "      <th>16</th>\n",
              "      <td>Abia</td>\n",
              "      <td>980.0</td>\n",
              "      <td>10</td>\n",
              "      <td>945.0</td>\n",
              "      <td>10.750329</td>\n",
              "      <td>0.819001</td>\n",
              "      <td>1.383541</td>\n",
              "    </tr>\n",
              "    <tr>\n",
              "      <th>17</th>\n",
              "      <td>Osun</td>\n",
              "      <td>979.0</td>\n",
              "      <td>22</td>\n",
              "      <td>937.0</td>\n",
              "      <td>10.739359</td>\n",
              "      <td>1.801802</td>\n",
              "      <td>1.371828</td>\n",
              "    </tr>\n",
              "    <tr>\n",
              "      <th>18</th>\n",
              "      <td>Bauchi</td>\n",
              "      <td>897.0</td>\n",
              "      <td>14</td>\n",
              "      <td>775.0</td>\n",
              "      <td>9.839842</td>\n",
              "      <td>1.146601</td>\n",
              "      <td>1.134650</td>\n",
              "    </tr>\n",
              "    <tr>\n",
              "      <th>19</th>\n",
              "      <td>Borno</td>\n",
              "      <td>778.0</td>\n",
              "      <td>36</td>\n",
              "      <td>705.0</td>\n",
              "      <td>8.534445</td>\n",
              "      <td>2.948403</td>\n",
              "      <td>1.032165</td>\n",
              "    </tr>\n",
              "    <tr>\n",
              "      <th>20</th>\n",
              "      <td>Imo</td>\n",
              "      <td>734.0</td>\n",
              "      <td>12</td>\n",
              "      <td>661.0</td>\n",
              "      <td>8.051777</td>\n",
              "      <td>0.982801</td>\n",
              "      <td>0.967747</td>\n",
              "    </tr>\n",
              "    <tr>\n",
              "      <th>21</th>\n",
              "      <td>Nasarawa</td>\n",
              "      <td>600.0</td>\n",
              "      <td>13</td>\n",
              "      <td>325.0</td>\n",
              "      <td>6.581834</td>\n",
              "      <td>1.064701</td>\n",
              "      <td>0.475821</td>\n",
              "    </tr>\n",
              "    <tr>\n",
              "      <th>22</th>\n",
              "      <td>Benue</td>\n",
              "      <td>515.0</td>\n",
              "      <td>11</td>\n",
              "      <td>460.0</td>\n",
              "      <td>5.649408</td>\n",
              "      <td>0.900901</td>\n",
              "      <td>0.673470</td>\n",
              "    </tr>\n",
              "    <tr>\n",
              "      <th>23</th>\n",
              "      <td>Bayelsa</td>\n",
              "      <td>497.0</td>\n",
              "      <td>21</td>\n",
              "      <td>421.0</td>\n",
              "      <td>5.451953</td>\n",
              "      <td>1.719902</td>\n",
              "      <td>0.616371</td>\n",
              "    </tr>\n",
              "    <tr>\n",
              "      <th>24</th>\n",
              "      <td>Ekiti</td>\n",
              "      <td>405.0</td>\n",
              "      <td>6</td>\n",
              "      <td>375.0</td>\n",
              "      <td>4.442738</td>\n",
              "      <td>0.491400</td>\n",
              "      <td>0.549024</td>\n",
              "    </tr>\n",
              "    <tr>\n",
              "      <th>25</th>\n",
              "      <td>Akwa Ibom</td>\n",
              "      <td>395.0</td>\n",
              "      <td>9</td>\n",
              "      <td>342.0</td>\n",
              "      <td>4.333041</td>\n",
              "      <td>0.737101</td>\n",
              "      <td>0.500710</td>\n",
              "    </tr>\n",
              "    <tr>\n",
              "      <th>26</th>\n",
              "      <td>Jigawa</td>\n",
              "      <td>386.0</td>\n",
              "      <td>11</td>\n",
              "      <td>318.0</td>\n",
              "      <td>4.234313</td>\n",
              "      <td>0.900901</td>\n",
              "      <td>0.465573</td>\n",
              "    </tr>\n",
              "    <tr>\n",
              "      <th>27</th>\n",
              "      <td>Niger</td>\n",
              "      <td>381.0</td>\n",
              "      <td>12</td>\n",
              "      <td>300.0</td>\n",
              "      <td>4.179465</td>\n",
              "      <td>0.982801</td>\n",
              "      <td>0.439219</td>\n",
              "    </tr>\n",
              "    <tr>\n",
              "      <th>28</th>\n",
              "      <td>Adamawa</td>\n",
              "      <td>355.0</td>\n",
              "      <td>21</td>\n",
              "      <td>238.0</td>\n",
              "      <td>3.894252</td>\n",
              "      <td>1.719902</td>\n",
              "      <td>0.348447</td>\n",
              "    </tr>\n",
              "    <tr>\n",
              "      <th>29</th>\n",
              "      <td>Anambra</td>\n",
              "      <td>299.0</td>\n",
              "      <td>19</td>\n",
              "      <td>274.0</td>\n",
              "      <td>3.279947</td>\n",
              "      <td>1.556102</td>\n",
              "      <td>0.401154</td>\n",
              "    </tr>\n",
              "    <tr>\n",
              "      <th>30</th>\n",
              "      <td>Sokoto</td>\n",
              "      <td>228.0</td>\n",
              "      <td>17</td>\n",
              "      <td>171.0</td>\n",
              "      <td>2.501097</td>\n",
              "      <td>1.392301</td>\n",
              "      <td>0.250355</td>\n",
              "    </tr>\n",
              "    <tr>\n",
              "      <th>31</th>\n",
              "      <td>Taraba</td>\n",
              "      <td>203.0</td>\n",
              "      <td>7</td>\n",
              "      <td>177.0</td>\n",
              "      <td>2.226854</td>\n",
              "      <td>0.573301</td>\n",
              "      <td>0.259139</td>\n",
              "    </tr>\n",
              "    <tr>\n",
              "      <th>32</th>\n",
              "      <td>Yobe</td>\n",
              "      <td>164.0</td>\n",
              "      <td>8</td>\n",
              "      <td>123.0</td>\n",
              "      <td>1.799035</td>\n",
              "      <td>0.655201</td>\n",
              "      <td>0.180080</td>\n",
              "    </tr>\n",
              "    <tr>\n",
              "      <th>33</th>\n",
              "      <td>Kebbi</td>\n",
              "      <td>143.0</td>\n",
              "      <td>8</td>\n",
              "      <td>130.0</td>\n",
              "      <td>1.568670</td>\n",
              "      <td>0.655201</td>\n",
              "      <td>0.190328</td>\n",
              "    </tr>\n",
              "    <tr>\n",
              "      <th>34</th>\n",
              "      <td>Cross River</td>\n",
              "      <td>93.0</td>\n",
              "      <td>11</td>\n",
              "      <td>81.0</td>\n",
              "      <td>1.020184</td>\n",
              "      <td>0.900901</td>\n",
              "      <td>0.118589</td>\n",
              "    </tr>\n",
              "    <tr>\n",
              "      <th>35</th>\n",
              "      <td>Zamfara</td>\n",
              "      <td>79.0</td>\n",
              "      <td>5</td>\n",
              "      <td>73.0</td>\n",
              "      <td>0.866608</td>\n",
              "      <td>0.409500</td>\n",
              "      <td>0.106877</td>\n",
              "    </tr>\n",
              "    <tr>\n",
              "      <th>36</th>\n",
              "      <td>Kogi</td>\n",
              "      <td>5.0</td>\n",
              "      <td>2</td>\n",
              "      <td>3.0</td>\n",
              "      <td>0.054849</td>\n",
              "      <td>0.163800</td>\n",
              "      <td>0.004392</td>\n",
              "    </tr>\n",
              "  </tbody>\n",
              "</table>\n",
              "</div>\n",
              "    <div class=\"colab-df-buttons\">\n",
              "\n",
              "  <div class=\"colab-df-container\">\n",
              "    <button class=\"colab-df-convert\" onclick=\"convertToInteractive('df-614c4c9d-ad8c-497a-9fea-a7ecb61d20b6')\"\n",
              "            title=\"Convert this dataframe to an interactive table.\"\n",
              "            style=\"display:none;\">\n",
              "\n",
              "  <svg xmlns=\"http://www.w3.org/2000/svg\" height=\"24px\" viewBox=\"0 -960 960 960\">\n",
              "    <path d=\"M120-120v-720h720v720H120Zm60-500h600v-160H180v160Zm220 220h160v-160H400v160Zm0 220h160v-160H400v160ZM180-400h160v-160H180v160Zm440 0h160v-160H620v160ZM180-180h160v-160H180v160Zm440 0h160v-160H620v160Z\"/>\n",
              "  </svg>\n",
              "    </button>\n",
              "\n",
              "  <style>\n",
              "    .colab-df-container {\n",
              "      display:flex;\n",
              "      gap: 12px;\n",
              "    }\n",
              "\n",
              "    .colab-df-convert {\n",
              "      background-color: #E8F0FE;\n",
              "      border: none;\n",
              "      border-radius: 50%;\n",
              "      cursor: pointer;\n",
              "      display: none;\n",
              "      fill: #1967D2;\n",
              "      height: 32px;\n",
              "      padding: 0 0 0 0;\n",
              "      width: 32px;\n",
              "    }\n",
              "\n",
              "    .colab-df-convert:hover {\n",
              "      background-color: #E2EBFA;\n",
              "      box-shadow: 0px 1px 2px rgba(60, 64, 67, 0.3), 0px 1px 3px 1px rgba(60, 64, 67, 0.15);\n",
              "      fill: #174EA6;\n",
              "    }\n",
              "\n",
              "    .colab-df-buttons div {\n",
              "      margin-bottom: 4px;\n",
              "    }\n",
              "\n",
              "    [theme=dark] .colab-df-convert {\n",
              "      background-color: #3B4455;\n",
              "      fill: #D2E3FC;\n",
              "    }\n",
              "\n",
              "    [theme=dark] .colab-df-convert:hover {\n",
              "      background-color: #434B5C;\n",
              "      box-shadow: 0px 1px 3px 1px rgba(0, 0, 0, 0.15);\n",
              "      filter: drop-shadow(0px 1px 2px rgba(0, 0, 0, 0.3));\n",
              "      fill: #FFFFFF;\n",
              "    }\n",
              "  </style>\n",
              "\n",
              "    <script>\n",
              "      const buttonEl =\n",
              "        document.querySelector('#df-614c4c9d-ad8c-497a-9fea-a7ecb61d20b6 button.colab-df-convert');\n",
              "      buttonEl.style.display =\n",
              "        google.colab.kernel.accessAllowed ? 'block' : 'none';\n",
              "\n",
              "      async function convertToInteractive(key) {\n",
              "        const element = document.querySelector('#df-614c4c9d-ad8c-497a-9fea-a7ecb61d20b6');\n",
              "        const dataTable =\n",
              "          await google.colab.kernel.invokeFunction('convertToInteractive',\n",
              "                                                    [key], {});\n",
              "        if (!dataTable) return;\n",
              "\n",
              "        const docLinkHtml = 'Like what you see? Visit the ' +\n",
              "          '<a target=\"_blank\" href=https://colab.research.google.com/notebooks/data_table.ipynb>data table notebook</a>'\n",
              "          + ' to learn more about interactive tables.';\n",
              "        element.innerHTML = '';\n",
              "        dataTable['output_type'] = 'display_data';\n",
              "        await google.colab.output.renderOutput(dataTable, element);\n",
              "        const docLink = document.createElement('div');\n",
              "        docLink.innerHTML = docLinkHtml;\n",
              "        element.appendChild(docLink);\n",
              "      }\n",
              "    </script>\n",
              "  </div>\n",
              "\n",
              "\n",
              "<div id=\"df-fe5c4308-4bba-41c1-ba3d-2c59ff695b48\">\n",
              "  <button class=\"colab-df-quickchart\" onclick=\"quickchart('df-fe5c4308-4bba-41c1-ba3d-2c59ff695b48')\"\n",
              "            title=\"Suggest charts\"\n",
              "            style=\"display:none;\">\n",
              "\n",
              "<svg xmlns=\"http://www.w3.org/2000/svg\" height=\"24px\"viewBox=\"0 0 24 24\"\n",
              "     width=\"24px\">\n",
              "    <g>\n",
              "        <path d=\"M19 3H5c-1.1 0-2 .9-2 2v14c0 1.1.9 2 2 2h14c1.1 0 2-.9 2-2V5c0-1.1-.9-2-2-2zM9 17H7v-7h2v7zm4 0h-2V7h2v10zm4 0h-2v-4h2v4z\"/>\n",
              "    </g>\n",
              "</svg>\n",
              "  </button>\n",
              "\n",
              "<style>\n",
              "  .colab-df-quickchart {\n",
              "      --bg-color: #E8F0FE;\n",
              "      --fill-color: #1967D2;\n",
              "      --hover-bg-color: #E2EBFA;\n",
              "      --hover-fill-color: #174EA6;\n",
              "      --disabled-fill-color: #AAA;\n",
              "      --disabled-bg-color: #DDD;\n",
              "  }\n",
              "\n",
              "  [theme=dark] .colab-df-quickchart {\n",
              "      --bg-color: #3B4455;\n",
              "      --fill-color: #D2E3FC;\n",
              "      --hover-bg-color: #434B5C;\n",
              "      --hover-fill-color: #FFFFFF;\n",
              "      --disabled-bg-color: #3B4455;\n",
              "      --disabled-fill-color: #666;\n",
              "  }\n",
              "\n",
              "  .colab-df-quickchart {\n",
              "    background-color: var(--bg-color);\n",
              "    border: none;\n",
              "    border-radius: 50%;\n",
              "    cursor: pointer;\n",
              "    display: none;\n",
              "    fill: var(--fill-color);\n",
              "    height: 32px;\n",
              "    padding: 0;\n",
              "    width: 32px;\n",
              "  }\n",
              "\n",
              "  .colab-df-quickchart:hover {\n",
              "    background-color: var(--hover-bg-color);\n",
              "    box-shadow: 0 1px 2px rgba(60, 64, 67, 0.3), 0 1px 3px 1px rgba(60, 64, 67, 0.15);\n",
              "    fill: var(--button-hover-fill-color);\n",
              "  }\n",
              "\n",
              "  .colab-df-quickchart-complete:disabled,\n",
              "  .colab-df-quickchart-complete:disabled:hover {\n",
              "    background-color: var(--disabled-bg-color);\n",
              "    fill: var(--disabled-fill-color);\n",
              "    box-shadow: none;\n",
              "  }\n",
              "\n",
              "  .colab-df-spinner {\n",
              "    border: 2px solid var(--fill-color);\n",
              "    border-color: transparent;\n",
              "    border-bottom-color: var(--fill-color);\n",
              "    animation:\n",
              "      spin 1s steps(1) infinite;\n",
              "  }\n",
              "\n",
              "  @keyframes spin {\n",
              "    0% {\n",
              "      border-color: transparent;\n",
              "      border-bottom-color: var(--fill-color);\n",
              "      border-left-color: var(--fill-color);\n",
              "    }\n",
              "    20% {\n",
              "      border-color: transparent;\n",
              "      border-left-color: var(--fill-color);\n",
              "      border-top-color: var(--fill-color);\n",
              "    }\n",
              "    30% {\n",
              "      border-color: transparent;\n",
              "      border-left-color: var(--fill-color);\n",
              "      border-top-color: var(--fill-color);\n",
              "      border-right-color: var(--fill-color);\n",
              "    }\n",
              "    40% {\n",
              "      border-color: transparent;\n",
              "      border-right-color: var(--fill-color);\n",
              "      border-top-color: var(--fill-color);\n",
              "    }\n",
              "    60% {\n",
              "      border-color: transparent;\n",
              "      border-right-color: var(--fill-color);\n",
              "    }\n",
              "    80% {\n",
              "      border-color: transparent;\n",
              "      border-right-color: var(--fill-color);\n",
              "      border-bottom-color: var(--fill-color);\n",
              "    }\n",
              "    90% {\n",
              "      border-color: transparent;\n",
              "      border-bottom-color: var(--fill-color);\n",
              "    }\n",
              "  }\n",
              "</style>\n",
              "\n",
              "  <script>\n",
              "    async function quickchart(key) {\n",
              "      const quickchartButtonEl =\n",
              "        document.querySelector('#' + key + ' button');\n",
              "      quickchartButtonEl.disabled = true;  // To prevent multiple clicks.\n",
              "      quickchartButtonEl.classList.add('colab-df-spinner');\n",
              "      try {\n",
              "        const charts = await google.colab.kernel.invokeFunction(\n",
              "            'suggestCharts', [key], {});\n",
              "      } catch (error) {\n",
              "        console.error('Error during call to suggestCharts:', error);\n",
              "      }\n",
              "      quickchartButtonEl.classList.remove('colab-df-spinner');\n",
              "      quickchartButtonEl.classList.add('colab-df-quickchart-complete');\n",
              "    }\n",
              "    (() => {\n",
              "      let quickchartButtonEl =\n",
              "        document.querySelector('#df-fe5c4308-4bba-41c1-ba3d-2c59ff695b48 button');\n",
              "      quickchartButtonEl.style.display =\n",
              "        google.colab.kernel.accessAllowed ? 'block' : 'none';\n",
              "    })();\n",
              "  </script>\n",
              "</div>\n",
              "\n",
              "    </div>\n",
              "  </div>\n"
            ],
            "application/vnd.google.colaboratory.intrinsic+json": {
              "type": "dataframe",
              "summary": "{\n  \"name\": \"                'Cases Percentage', 'Deaths Percentage', 'Recoveries Percentage']]\",\n  \"rows\": 37,\n  \"fields\": [\n    {\n      \"column\": \"States Affected\",\n      \"properties\": {\n        \"dtype\": \"string\",\n        \"num_unique_values\": 37,\n        \"samples\": [\n          \"Osun\",\n          \"Kwara\",\n          \"Oyo\"\n        ],\n        \"semantic_type\": \"\",\n        \"description\": \"\"\n      }\n    },\n    {\n      \"column\": \"No. of Cases (Lab Confirmed)\",\n      \"properties\": {\n        \"dtype\": \"number\",\n        \"std\": 297.2875551989865,\n        \"min\": 5.0,\n        \"max\": 980.0,\n        \"num_unique_values\": 21,\n        \"samples\": [\n          980.0,\n          143.0,\n          203.0\n        ],\n        \"semantic_type\": \"\",\n        \"description\": \"\"\n      }\n    },\n    {\n      \"column\": \"No. of Deaths\",\n      \"properties\": {\n        \"dtype\": \"number\",\n        \"std\": 41,\n        \"min\": 2,\n        \"max\": 236,\n        \"num_unique_values\": 30,\n        \"samples\": [\n          8,\n          10,\n          9\n        ],\n        \"semantic_type\": \"\",\n        \"description\": \"\"\n      }\n    },\n    {\n      \"column\": \"No. Discharged\",\n      \"properties\": {\n        \"dtype\": \"number\",\n        \"std\": 4009.4647847761876,\n        \"min\": 3.0,\n        \"max\": 24037.0,\n        \"num_unique_values\": 37,\n        \"samples\": [\n          937.0,\n          1094.0,\n          3374.0\n        ],\n        \"semantic_type\": \"\",\n        \"description\": \"\"\n      }\n    },\n    {\n      \"column\": \"Cases Percentage\",\n      \"properties\": {\n        \"dtype\": \"number\",\n        \"std\": 3.2611622992429417,\n        \"min\": 0.05484861781483107,\n        \"max\": 10.75032909170689,\n        \"num_unique_values\": 21,\n        \"samples\": [\n          10.75032909170689,\n          1.5686704695041687,\n          2.2268538832821414\n        ],\n        \"semantic_type\": \"\",\n        \"description\": \"\"\n      }\n    },\n    {\n      \"column\": \"Deaths Percentage\",\n      \"properties\": {\n        \"dtype\": \"number\",\n        \"std\": 3.42324272469391,\n        \"min\": 0.16380016380016382,\n        \"max\": 19.328419328419326,\n        \"num_unique_values\": 30,\n        \"samples\": [\n          0.6552006552006553,\n          0.819000819000819,\n          0.7371007371007371\n        ],\n        \"semantic_type\": \"\",\n        \"description\": \"\"\n      }\n    },\n    {\n      \"column\": \"Recoveries Percentage\",\n      \"properties\": {\n        \"dtype\": \"number\",\n        \"std\": 5.870115199590337,\n        \"min\": 0.004392193607894236,\n        \"max\": 35.19171925098458,\n        \"num_unique_values\": 37,\n        \"samples\": [\n          1.3718284701989663,\n          1.6016866023454313,\n          4.939753744345051\n        ],\n        \"semantic_type\": \"\",\n        \"description\": \"\"\n      }\n    }\n  ]\n}"
            }
          },
          "metadata": {},
          "execution_count": 80
        }
      ]
    },
    {
      "cell_type": "code",
      "source": [
        "# Top 5 states with highest cases\n",
        "top_5_cases = covid_nig_data.nlargest(5, 'No. of Cases (Lab Confirmed)')\n",
        "\n",
        "# Top 5 states with lowest cases\n",
        "bottom_5_cases = covid_nig_data.nsmallest(5, 'No. of Cases (Lab Confirmed)')\n",
        "\n",
        "print(\"Top 5 States with Most Cases:\")\n",
        "print(top_5_cases[['States Affected', 'No. of Cases (Lab Confirmed)']])\n",
        "\n",
        "print(\"Top 5 States with Least Cases:\")\n",
        "print(bottom_5_cases[['States Affected', 'No. of Cases (Lab Confirmed)']])"
      ],
      "metadata": {
        "colab": {
          "base_uri": "https://localhost:8080/"
        },
        "id": "TFMqaytLwJDs",
        "outputId": "2332e23e-183a-43a7-89e8-eaf410f1b4e3"
      },
      "execution_count": null,
      "outputs": [
        {
          "output_type": "stream",
          "name": "stdout",
          "text": [
            "Top 5 States with Most Cases:\n",
            "   States Affected  No. of Cases (Lab Confirmed)\n",
            "16            Abia                         980.0\n",
            "17            Osun                         979.0\n",
            "18          Bauchi                         897.0\n",
            "19           Borno                         778.0\n",
            "20             Imo                         734.0\n",
            "Top 5 States with Least Cases:\n",
            "   States Affected  No. of Cases (Lab Confirmed)\n",
            "36            Kogi                           5.0\n",
            "35        Zamfara                           79.0\n",
            "34     Cross River                          93.0\n",
            "33           Kebbi                         143.0\n",
            "32            Yobe                         164.0\n"
          ]
        }
      ]
    },
    {
      "cell_type": "code",
      "source": [
        "import matplotlib.pyplot as plt\n",
        "import seaborn as sns\n",
        "\n",
        "# Set plot style\n",
        "plt.figure(figsize=(12, 8))\n",
        "sns.barplot(x='No. of Cases (Lab Confirmed)', y='States Affected', data=covid_nig_data.sort_values('No. of Cases (Lab Confirmed)', ascending=False), palette='viridis')\n",
        "\n",
        "# Add labels and title\n",
        "plt.title(\"Total COVID-19 Cases by State in Nigeria\")\n",
        "plt.xlabel(\"Confirmed Cases\")\n",
        "plt.ylabel(\"States\")\n",
        "plt.show()"
      ],
      "metadata": {
        "colab": {
          "base_uri": "https://localhost:8080/",
          "height": 297
        },
        "id": "-p4AMfSewrbH",
        "outputId": "769afe77-7913-48cc-b48a-4d2ea5d0711f"
      },
      "execution_count": null,
      "outputs": [
        {
          "output_type": "stream",
          "name": "stderr",
          "text": [
            "<ipython-input-83-e2db1c0328a4>:6: FutureWarning: \n",
            "\n",
            "Passing `palette` without assigning `hue` is deprecated and will be removed in v0.14.0. Assign the `y` variable to `hue` and set `legend=False` for the same effect.\n",
            "\n",
            "  sns.barplot(x='No. of Cases (Lab Confirmed)', y='States Affected', data=covid_nig_data.sort_values('No. of Cases (Lab Confirmed)', ascending=False), palette='viridis')\n"
          ]
        },
        {
          "output_type": "display_data",
          "data": {
            "text/plain": [
              "<Figure size 1200x800 with 1 Axes>"
            ],
            "image/png": "[encoded data removed]"
          },
          "metadata": {}
        }
      ]
    }
  ]
}